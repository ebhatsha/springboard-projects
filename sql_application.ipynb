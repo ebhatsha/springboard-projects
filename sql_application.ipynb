{
 "cells": [
  {
   "cell_type": "code",
   "execution_count": null,
   "id": "d104210b-4703-4b0c-87b1-069f8ec15e2b",
   "metadata": {},
   "outputs": [],
   "source": [
    "/* Q1: Some of the facilities charge a fee to members, but some do not.\n",
    "Write a SQL query to produce a list of the names of the facilities that do. */\n",
    "\n",
    "SELECT name \n",
    "FROM Facilities \n",
    "WHERE membercost > 0;\n"
   ]
  },
  {
   "cell_type": "code",
   "execution_count": null,
   "id": "aea38e33-47f0-4e4e-866b-2907400b165a",
   "metadata": {},
   "outputs": [],
   "source": [
    "/* Q2: How many facilities do not charge a fee to members? */\n",
    "\n",
    "4 facilities"
   ]
  },
  {
   "cell_type": "code",
   "execution_count": null,
   "id": "383c7411-3713-4d45-a0c9-470b3f387012",
   "metadata": {},
   "outputs": [],
   "source": [
    "/* Q3: Write an SQL query to show a list of facilities that charge a fee to members,\n",
    "where the fee is less than 20% of the facility's monthly maintenance cost.\n",
    "Return the facid, facility name, member cost, and monthly maintenance of the\n",
    "facilities in question. */\n",
    "\n",
    "SELECT name\n",
    "FROM Facilities\n",
    "WHERE membercost > 0\n",
    "AND membercost < (0.2 * monthlymaintenance);\n"
   ]
  },
  {
   "cell_type": "code",
   "execution_count": null,
   "id": "49a50e89-8413-4311-8e68-90ac1ebeca61",
   "metadata": {},
   "outputs": [],
   "source": [
    "/* Q4: Write an SQL query to retrieve the details of facilities with ID 1 and 5.\n",
    "Try writing the query without using the OR operator. */\n",
    "\n",
    "SELECT facid\n",
    "FROM Facilities\n",
    "WHERE facid IN (0,5)"
   ]
  },
  {
   "cell_type": "code",
   "execution_count": null,
   "id": "8bee76df-73b2-4da9-b120-ebf31d8c28fb",
   "metadata": {},
   "outputs": [],
   "source": [
    "/* Q5: Produce a list of facilities, with each labelled as\n",
    "'cheap' or 'expensive', depending on if their monthly maintenance cost is\n",
    "more than $100. Return the name and monthly maintenance of the facilities\n",
    "in question. */\n",
    "\n",
    "SELECT name\n",
    "    CASE\n",
    "        WHEN monthlymaintenance > 100 THEN 'expensive'\n",
    "        ELSE 'cheap'\n",
    "    END AS cost_category\n",
    "FROM Facilities;\n"
   ]
  },
  {
   "cell_type": "code",
   "execution_count": null,
   "id": "cc5e5514-5b63-4d54-aa7d-bf48e11b6834",
   "metadata": {},
   "outputs": [],
   "source": [
    "/* Q6: You'd like to get the first and last name of the last member(s)\n",
    "who signed up. Try not to use the LIMIT clause for your solution. */\n",
    "\n",
    "SELECT firstname, surname\n",
    "FROM Members\n",
    "WHERE joindate = (SELECT MAX(joindate) FROM Members);\n"
   ]
  },
  {
   "cell_type": "code",
   "execution_count": null,
   "id": "a0fa18b5-61d0-411d-8cc8-29be57e174de",
   "metadata": {},
   "outputs": [],
   "source": [
    "/* Q7: Produce a list of all members who have used a tennis court.\n",
    "Include in your output the name of the court, and the name of the member\n",
    "formatted as a single column. Ensure no duplicate data, and order by\n",
    "the member name. */\n",
    "\n",
    "select distinct mems.firstname || ' ' || mems.surname as member, facs.name as facility\n",
    "\tfrom \n",
    "\t\tcd.members mems\n",
    "\t\tinner join cd.bookings bks\n",
    "\t\t\ton mems.memid = bks.memid\n",
    "\t\tinner join cd.facilities facs\n",
    "\t\t\ton bks.facid = facs.facid\n",
    "\twhere\n",
    "\t\tfacs.name in ('Tennis Court 2','Tennis Court 1')\n",
    "order by member, facility \n"
   ]
  },
  {
   "cell_type": "code",
   "execution_count": null,
   "id": "712ff8ac-4321-42ce-86da-09f19a031ae0",
   "metadata": {},
   "outputs": [],
   "source": [
    "/* Q8: Produce a list of bookings on the day of 2012-09-14 which\n",
    "will cost the member (or guest) more than $30. Remember that guests have\n",
    "different costs to members (the listed costs are per half-hour 'slot'), and\n",
    "the guest user's ID is always 0. Include in your output the name of the\n",
    "facility, the name of the member formatted as a single column, and the cost.\n",
    "Order by descending cost, and do not use any subqueries. */\n",
    "\n",
    "select mems.firstname || ' ' || mems.surname as member, \n",
    "\tfacs.name as facility, \n",
    "\tcase \n",
    "\t\twhen mems.memid = 0 then\n",
    "\t\t\tbks.slots*facs.guestcost\n",
    "\t\telse\n",
    "\t\t\tbks.slots*facs.membercost\n",
    "\tend as cost\n",
    "        from\n",
    "                cd.members mems                \n",
    "                inner join cd.bookings bks\n",
    "                        on mems.memid = bks.memid\n",
    "                inner join cd.facilities facs\n",
    "                        on bks.facid = facs.facid\n",
    "        where\n",
    "\t\tbks.starttime >= '2012-09-14' and \n",
    "\t\tbks.starttime < '2012-09-15' and (\n",
    "\t\t\t(mems.memid = 0 and bks.slots*facs.guestcost > 30) or\n",
    "\t\t\t(mems.memid != 0 and bks.slots*facs.membercost > 30)\n",
    "\t\t)\n",
    "order by cost desc;          \n"
   ]
  },
  {
   "cell_type": "code",
   "execution_count": null,
   "id": "6f5c1d93-bc16-4cc6-86cc-2102b3080b67",
   "metadata": {},
   "outputs": [],
   "source": [
    "/* Q9: This time, produce the same result as in Q8, but using a subquery. */\n",
    "\n",
    "select distinct mems.firstname || ' ' ||  mems.surname as member,\n",
    "\t(select recs.firstname || ' ' || recs.surname as recommender \n",
    "\t\tfrom cd.members recs \n",
    "\t\twhere recs.memid = mems.recommendedby\n",
    "\t)\n",
    "\tfrom \n",
    "\t\tcd.members mems\n",
    "order by member;  \n"
   ]
  },
  {
   "cell_type": "code",
   "execution_count": null,
   "id": "0737c5b8-f7d2-4077-834b-a56327dbbd45",
   "metadata": {},
   "outputs": [],
   "source": [
    "/* Q10: Produce a list of facilities with a total revenue less than 1000.\n",
    "The output of facility name and total revenue, sorted by revenue. Remember\n",
    "that there's a different cost for guests and members! */\n",
    "\n",
    "SELECT * \n",
    "FROM (\n",
    "SELECT Facilities.name AS facility, CONCAT( Members.firstname,  ' ', Members.surname ) AS name, \n",
    "    CASE \n",
    "        WHEN Bookings.memid =0\n",
    "        THEN Facilities.guestcost * Bookings.slots\n",
    "    ELSE Facilities.membercost * Bookings.slots\n",
    "END AS cost\n",
    "FROM Bookings\n",
    "INNER JOIN Facilities ON Bookings.facid = Facilities.facid\n",
    "AND Bookings.starttime LIKE  '2012-09-14%'\n",
    "INNER JOIN Members ON Bookings.memid = Members.memid\n",
    ")sub\n",
    "WHERE sub.cost >30\n",
    "ORDER BY sub.cost DESC;\n"
   ]
  },
  {
   "cell_type": "code",
   "execution_count": null,
   "id": "e717b7b0-0052-4b10-bb4c-ba87ccb0a9e6",
   "metadata": {},
   "outputs": [],
   "source": [
    "/* Q11: Produce a report of members and who recommended them in alphabetic surname,firstname order */\n",
    "\n",
    "SELECT \n",
    "    m1.surname AS member_surname,\n",
    "    m1.firstname AS member_firstname,\n",
    "    m2.surname AS recommender_surname,\n",
    "    m2.firstname AS recommender_firstname\n",
    "FROM Members\n",
    "LEFT JOIN Members m2 ON m1.recommendedby = m2.memid\n",
    "ORDER BY member_surname, member_firstname;\n"
   ]
  },
  {
   "cell_type": "code",
   "execution_count": null,
   "id": "5d6f4712-7830-488e-a4a2-6b177c0d5c6a",
   "metadata": {},
   "outputs": [],
   "source": [
    "/* Q12: Find the facilities with their usage by member, but not guests */\n",
    "\n",
    "SELECT \n",
    "    f.facid, \n",
    "    f.name AS facility_name, \n",
    "    SUM(b.slots) AS total_usage\n",
    "FROM Facilities f\n",
    "JOIN Bookings b ON f.facid = b.facid\n",
    "WHERE b.memid <> 0  -- Excludes guest bookings\n",
    "GROUP BY f.facid, f.name\n",
    "ORDER BY total_usage DESC;\n",
    "\n",
    "/* Q13: Find the facilities usage by month, but not guests */\n",
    "\n",
    "SELECT \n",
    "    EXTRACT(MONTH FROM b.starttime) AS month, \n",
    "    f.facid, \n",
    "    f.name AS facility_name, \n",
    "    SUM(b.slots) AS total_usage\n",
    "FROM Bookings b\n",
    "JOIN Facilities f ON b.facid = f.facid\n",
    "WHERE b.memid <> 0  -- Excludes guest bookings\n",
    "GROUP BY month, f.facid, f.name\n",
    "ORDER BY month, f.facid;"
   ]
  }
 ],
 "metadata": {
  "kernelspec": {
   "display_name": "",
   "name": ""
  },
  "language_info": {
   "name": ""
  }
 },
 "nbformat": 4,
 "nbformat_minor": 5
}
